{
 "cells": [
  {
   "cell_type": "code",
   "execution_count": 28,
   "metadata": {
    "collapsed": true
   },
   "outputs": [],
   "source": [
    "from __future__ import print_function\n",
    "\n",
    "import pandas as pd\n",
    "\n",
    "from bokeh.browserlib import view\n",
    "from bokeh.document import Document\n",
    "from bokeh.embed import file_html\n",
    "from bokeh.models.glyphs import Circle\n",
    "from bokeh.io import vform\n",
    "from bokeh.models import (\n",
    "    GMapPlot, Range1d, ColumnDataSource,\n",
    "    PanTool, WheelZoomTool, BoxSelectTool,\n",
    "    BoxSelectionOverlay, GMapOptions, HoverTool, Slider, PreviewSaveTool)\n",
    "from bokeh.resources import INLINE"
   ]
  },
  {
   "cell_type": "code",
   "execution_count": 34,
   "metadata": {
    "collapsed": false
   },
   "outputs": [],
   "source": [
    "x_range = Range1d()\n",
    "y_range = Range1d()\n",
    "\n",
    "# JSON style string taken from: https://snazzymaps.com/style/1/pale-dawn\n",
    "map_options = GMapOptions(lat=40.7213, lng=-73.9968, map_type=\"roadmap\", zoom=12, styles=\"\"\"\n",
    "[{\"featureType\":\"administrative\",\"elementType\":\"all\",\"stylers\":[{\"visibility\":\"off\"}]},{\"featureType\":\"landscape\",\"elementType\":\"all\",\"stylers\":[{\"visibility\":\"simplified\"},{\"hue\":\"#0066ff\"},{\"saturation\":74},{\"lightness\":100}]},{\"featureType\":\"poi\",\"elementType\":\"all\",\"stylers\":[{\"visibility\":\"simplified\"}]},{\"featureType\":\"road\",\"elementType\":\"all\",\"stylers\":[{\"visibility\":\"simplified\"}]},{\"featureType\":\"road.highway\",\"elementType\":\"all\",\"stylers\":[{\"visibility\":\"off\"},{\"weight\":0.6},{\"saturation\":-85},{\"lightness\":61}]},{\"featureType\":\"road.highway\",\"elementType\":\"geometry\",\"stylers\":[{\"visibility\":\"on\"}]},{\"featureType\":\"road.arterial\",\"elementType\":\"all\",\"stylers\":[{\"visibility\":\"off\"}]},{\"featureType\":\"road.local\",\"elementType\":\"all\",\"stylers\":[{\"visibility\":\"on\"}]},{\"featureType\":\"transit\",\"elementType\":\"all\",\"stylers\":[{\"visibility\":\"simplified\"}]},{\"featureType\":\"water\",\"elementType\":\"all\",\"stylers\":[{\"visibility\":\"simplified\"},{\"color\":\"#5f94ff\"},{\"lightness\":26},{\"gamma\":5.86}]}]\n",
    "\"\"\")\n",
    "\n",
    "plot = GMapPlot(\n",
    "    x_range=x_range, y_range=y_range,\n",
    "    map_options=map_options,\n",
    "    title=\"Manhattan\"\n",
    ")\n",
    "\n",
    "df = pd.read_csv('parties_2014.csv', nrows=1000, usecols=['Descriptor','Borough','Latitude', 'Longitude'])\n",
    "df = df[(df['Borough']=='MANHATTAN')]\n",
    "df = df.dropna()\n",
    "\n",
    "source = ColumnDataSource(\n",
    "    data=dict(\n",
    "        lat=df['Latitude'],\n",
    "        lon=df['Longitude'],\n",
    "    )\n",
    ")\n",
    "\n",
    "circle = Circle(x=\"lon\", y=\"lat\", size=5, fill_alpha=0.5, fill_color=\"magenta\", line_alpha=0.3, line_color=\"black\")\n",
    "plot.add_glyph(source, circle)\n",
    "\n",
    "slider = Slider(start=0, end=6, value=1, step=1, title=\"Weekdays\")\n",
    "\n",
    "pan = PanTool()\n",
    "wheel_zoom = WheelZoomTool()\n",
    "# box_select = BoxSelectTool()\n",
    "\n",
    "\n",
    "plot.add_tools(pan, wheel_zoom)#, box_select)\n",
    "# overlay = BoxSelectionOverlay(tool=box_select)\n",
    "# plot.add_layout(overlay)\n",
    "\n",
    "# layout = vform(slider, plot)\n",
    "\n",
    "doc = Document()\n",
    "# doc.add(slider)\n",
    "doc.add(plot, slider)"
   ]
  },
  {
   "cell_type": "code",
   "execution_count": 35,
   "metadata": {
    "collapsed": false
   },
   "outputs": [
    {
     "name": "stdout",
     "output_type": "stream",
     "text": [
      "Wrote maps.html\n"
     ]
    }
   ],
   "source": [
    "filename = \"maps.html\"\n",
    "with open(filename, \"w\") as f:\n",
    "    f.write(file_html(doc, INLINE, \"Google Maps Example\"))\n",
    "print(\"Wrote %s\" % filename)\n",
    "view(filename)"
   ]
  },
  {
   "cell_type": "code",
   "execution_count": null,
   "metadata": {
    "collapsed": true
   },
   "outputs": [],
   "source": []
  }
 ],
 "metadata": {
  "kernelspec": {
   "display_name": "Python 3",
   "language": "python",
   "name": "python3"
  },
  "language_info": {
   "codemirror_mode": {
    "name": "ipython",
    "version": 3
   },
   "file_extension": ".py",
   "mimetype": "text/x-python",
   "name": "python",
   "nbconvert_exporter": "python",
   "pygments_lexer": "ipython3",
   "version": "3.5.0"
  }
 },
 "nbformat": 4,
 "nbformat_minor": 0
}
