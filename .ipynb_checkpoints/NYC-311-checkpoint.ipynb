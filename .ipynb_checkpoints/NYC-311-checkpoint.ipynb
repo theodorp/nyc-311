{
 "cells": [
  {
   "cell_type": "code",
   "execution_count": 36,
   "metadata": {
    "collapsed": false
   },
   "outputs": [],
   "source": [
    "import pandas as pd\n",
    "import datetime\n",
    "from ggplot import *\n",
    "%matplotlib inline"
   ]
  },
  {
   "cell_type": "code",
   "execution_count": null,
   "metadata": {
    "collapsed": false
   },
   "outputs": [],
   "source": [
    "filename = '311_Service_Requests_from_2014.csv'\n",
    "\n",
    "# df = pd.read_csv(filename, nrows=100)\n",
    "# df.info()\n",
    "\n",
    "df = pd.read_csv(filename, nrows=10000, usecols=['Created Date', 'Complaint Type', \\\n",
    "                'Descriptor', 'Location Type', 'Borough', 'Latitude', 'Longitude'], \\\n",
    "                 parse_dates=['Created Date'])\n",
    "\n",
    "df['Weekday'] = pd.DatetimeIndex(df['Created Date']).weekday\n",
    "\n",
    "df_Man = df[df['Borough'] == 'MANHATTAN']"
   ]
  },
  {
   "cell_type": "code",
   "execution_count": null,
   "metadata": {
    "collapsed": false
   },
   "outputs": [],
   "source": [
    "# ggplot(aes(x='Longitude', y='Latitude', color='Weekday'), data=df_Man) + geom_point()\n",
    "ggplot(aes(x='Weekday'), data=df_Man) + geom_histogram()"
   ]
  },
  {
   "cell_type": "code",
   "execution_count": null,
   "metadata": {
    "collapsed": true
   },
   "outputs": [],
   "source": []
  }
 ],
 "metadata": {
  "kernelspec": {
   "display_name": "Python 3",
   "language": "python",
   "name": "python3"
  },
  "language_info": {
   "codemirror_mode": {
    "name": "ipython",
    "version": 3
   },
   "file_extension": ".py",
   "mimetype": "text/x-python",
   "name": "python",
   "nbconvert_exporter": "python",
   "pygments_lexer": "ipython3",
   "version": "3.5.0"
  }
 },
 "nbformat": 4,
 "nbformat_minor": 0
}
